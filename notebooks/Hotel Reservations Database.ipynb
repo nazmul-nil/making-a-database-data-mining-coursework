{
 "cells": [
  {
   "cell_type": "code",
   "execution_count": 1,
   "id": "7957681f-5b9c-4e5b-8464-fd562dcd9c1f",
   "metadata": {},
   "outputs": [],
   "source": [
    "import numpy as np\n",
    "import pandas as pd"
   ]
  },
  {
   "cell_type": "code",
   "execution_count": 7,
   "id": "60afdd7f-9d2d-4fab-b3e7-e8d76561a0f6",
   "metadata": {},
   "outputs": [],
   "source": [
    "\n",
    "# primary key: nominal\n"
   ]
  }
 ],
 "metadata": {
  "kernelspec": {
   "display_name": "Python 3 (ipykernel)",
   "language": "python",
   "name": "python3"
  },
  "language_info": {
   "codemirror_mode": {
    "name": "ipython",
    "version": 3
   },
   "file_extension": ".py",
   "mimetype": "text/x-python",
   "name": "python",
   "nbconvert_exporter": "python",
   "pygments_lexer": "ipython3",
   "version": "3.12.4"
  }
 },
 "nbformat": 4,
 "nbformat_minor": 5
}
